{
  "nbformat": 4,
  "nbformat_minor": 0,
  "metadata": {
    "colab": {
      "name": "music_genre.ipynb",
      "provenance": [],
      "collapsed_sections": []
    },
    "kernelspec": {
      "name": "python3",
      "display_name": "Python 3"
    }
  },
  "cells": [
    {
      "cell_type": "markdown",
      "metadata": {
        "id": "m1km3_lzb0Vi",
        "colab_type": "text"
      },
      "source": [
        "The first thing we do of course is to import the data\n",
        "to be used for this project. However, we need to import the libraries and that will work with these data as well, and the ones that will help create the algorithm.\n",
        "\n"
      ]
    },
    {
      "cell_type": "code",
      "metadata": {
        "id": "t0moglUdZVgE",
        "colab_type": "code",
        "colab": {}
      },
      "source": [
        "import pandas as pd\n",
        "from sklearn.model_selection import train_test_split\n",
        "from sklearn.tree import DecisionTreeClassifier\n",
        "from sklearn.metrics import accuracy_score\n",
        "\n",
        "dataframe = pd.read_csv('music.csv')"
      ],
      "execution_count": null,
      "outputs": []
    },
    {
      "cell_type": "markdown",
      "metadata": {
        "id": "XssGcehTc1fd",
        "colab_type": "text"
      },
      "source": [
        "We create input set and output set"
      ]
    },
    {
      "cell_type": "code",
      "metadata": {
        "id": "tr8NPUFKEnh4",
        "colab_type": "code",
        "colab": {}
      },
      "source": [
        "X = dataframe.drop(columns=['MUSIC GENRE'])\n",
        "y = dataframe['MUSIC GENRE']"
      ],
      "execution_count": null,
      "outputs": []
    },
    {
      "cell_type": "markdown",
      "metadata": {
        "id": "0IsBxYJbc_dT",
        "colab_type": "text"
      },
      "source": [
        "We split the individual input and output sets into training set and test set each"
      ]
    },
    {
      "cell_type": "code",
      "metadata": {
        "id": "elhuEm2Hk4aW",
        "colab_type": "code",
        "colab": {}
      },
      "source": [
        "\n",
        "X_train, X_test, y_train, y_test = train_test_split(X, y, test_size=0.2)"
      ],
      "execution_count": null,
      "outputs": []
    },
    {
      "cell_type": "markdown",
      "metadata": {
        "id": "aS6WlsRIdMZd",
        "colab_type": "text"
      },
      "source": [
        "We create the model and fit the data (the input training data and the output training data)"
      ]
    },
    {
      "cell_type": "code",
      "metadata": {
        "id": "9FmVgrVEhpla",
        "colab_type": "code",
        "colab": {}
      },
      "source": [
        "model = DecisionTreeClassifier()\n",
        "model.fit(X_train, y_train)"
      ],
      "execution_count": null,
      "outputs": []
    },
    {
      "cell_type": "markdown",
      "metadata": {
        "id": "w4hDOfPcdg6v",
        "colab_type": "text"
      },
      "source": [
        "We make predictions with the input test data - the predictions are stored in a new set, y prediction, which we will check if it is accurate by comparing it with the expected data which we have in the output test set (y_test)"
      ]
    },
    {
      "cell_type": "code",
      "metadata": {
        "id": "QSdqQhs4r1h4",
        "colab_type": "code",
        "colab": {}
      },
      "source": [
        "y_prediction = model.predict(X_test)\n",
        "for row in y_prediction:\n",
        "  print(row)"
      ],
      "execution_count": null,
      "outputs": []
    },
    {
      "cell_type": "markdown",
      "metadata": {
        "id": "V-qLE_zSdc6J",
        "colab_type": "text"
      },
      "source": [
        "We score the accuracy and see if there should be adjustments"
      ]
    },
    {
      "cell_type": "code",
      "metadata": {
        "id": "CwlOZkeRq7ZW",
        "colab_type": "code",
        "colab": {
          "base_uri": "https://localhost:8080/",
          "height": 34
        },
        "outputId": "d19d413c-14e1-40eb-d6b7-b64863869906"
      },
      "source": [
        "prediction_accuracy = accuracy_score(y_test, y_prediction)\n",
        "prediction_accuracy"
      ],
      "execution_count": null,
      "outputs": [
        {
          "output_type": "execute_result",
          "data": {
            "text/plain": [
              "0.7857142857142857"
            ]
          },
          "metadata": {
            "tags": []
          },
          "execution_count": 56
        }
      ]
    }
  ]
}